{
  "nbformat": 4,
  "nbformat_minor": 0,
  "metadata": {
    "colab": {
      "provenance": []
    },
    "kernelspec": {
      "name": "python3",
      "display_name": "Python 3"
    },
    "language_info": {
      "name": "python"
    }
  },
  "cells": [
    {
      "cell_type": "markdown",
      "source": [
        "# Sobre o aprendizagem baseada em regra e o algoritmo de PRISM\n",
        "\n",
        "**Aprendizagem baseada em regras:**\n",
        "1. Abordagem de aprendizado de máquina que busca extrair regras ou padrões facilmente interpretáveis a partir dos dados.\n",
        "2. Foca na criação de regras que descrevem relacionamentos entre variáveis ​​independentes e dependentes.\n",
        "3. Utiliza algoritmos que buscam dividir o espaço de entrada em regiões representativas para cada classe.\n",
        "4. As regras resultantes podem ser expressas em termos de \"se... então...\", tornando-as compreensíveis para humanos.\n",
        "5. Exemplos de algoritmos incluem Algoritmos de Indução de Árvore de Decisão (Decision Tree Induction), Algoritmo de Partição Recursiva (Recursive Partitioning Algorithm) e Algoritmo de Cobertura de Instância (Instance Covering Algorithm).\n",
        "\n",
        "**Algoritmo PRISM (Primitive Rule Induction and Selection Method):**\n",
        "1. Uma técnica específica de aprendizado baseado em regras.\n",
        "2. Desenvolvido por Ross Quinlan nos anos 80.\n",
        "3. Utiliza uma abordagem baseada em busca gulosa para induzir regras simples e interpretação do conjunto de dados.\n",
        "4. Inicialmente, o algoritmo tenta gerar regras simples que descrevem a maior parte dos dados.\n",
        "5. Em seguida, seleciona e generaliza as regras mais promissoras para aumentar sua cobertura e generalidade.\n",
        "6. PRISM é especialmente útil em problemas de classificação com variáveis categóricas.\n",
        "7. As regras geradas pelo PRISM são facilmente compreensíveis e interpretáveis, tornando-o útil em aplicações onde a transparência é importante.\n",
        "\n",
        "## OBSERVAÇÃO:\n",
        "o algoritmo PRISM tem limitação em lidar com conjuntos de dados complexos ou de grande escala. Ele tende a ter dificuldades em lidar com conjuntos de dados que possuem muitas variáveis ou apresentam relações não-lineares entre as variáveis. Além disso, PRISM pode sofrer de overfitting quando aplicado a conjuntos de dados pequenos ou ruidosos.\n",
        "\n",
        "# IMPPORTANTE - CAIU EM DESUSO, POIS:\n",
        "com o surgimento de métodos mais avançados de aprendizado de máquina, especialmente algoritmos baseados em redes neurais profundas, que mostraram desempenho superior em uma variedade de tarefas de aprendizado supervisionado e são capazes de lidar com a complexidade dos dados de uma forma mais eficaz. **Como resultado, algoritmos mais antigos, como o PRISM, foram gradualmente substituídos por essas técnicas mais modernas e poderosas.**"
      ],
      "metadata": {
        "id": "CS4KGbkOPnJ3"
      }
    },
    {
      "cell_type": "markdown",
      "metadata": {
        "id": "4gUvxQ_wDGt4"
      },
      "source": [
        "## Base risco de crédito"
      ]
    },
    {
      "cell_type": "code",
      "execution_count": null,
      "metadata": {
        "id": "JotbvF6BE2HC"
      },
      "outputs": [],
      "source": [
        "# Carregamento da base de dados 'risco_credito_regras.csv'\n",
        "# Biblioteca Orange: Plataforma de análise de dados e machine learning baseado em regras.\n",
        "# Classe: Orange.data.Table\n",
        "# Função da Classe: Carrega os dados de um arquivo CSV e os armazena em uma estrutura de dados tabular.\n",
        "\n",
        "base_risco_credito = Orange.data.Table('/content/drive/MyDrive/ML e Data Sciece com python/dataset/credit_risc/risco_credito_regras.csv')"
      ]
    },
    {
      "cell_type": "code",
      "execution_count": null,
      "metadata": {
        "colab": {
          "base_uri": "https://localhost:8080/"
        },
        "id": "NFP_btyJFjrt",
        "outputId": "1bb0aa44-2c8f-421a-f50c-703662e21d58"
      },
      "outputs": [
        {
          "output_type": "execute_result",
          "data": {
            "text/plain": [
              "[[ruim, alta, nenhuma, 0_15 | alto],\n",
              " [desconhecida, alta, nenhuma, 15_35 | alto],\n",
              " [desconhecida, baixa, nenhuma, 15_35 | moderado],\n",
              " [desconhecida, baixa, nenhuma, acima_35 | alto],\n",
              " [desconhecida, baixa, nenhuma, acima_35 | baixo],\n",
              " ...\n",
              "]"
            ]
          },
          "metadata": {},
          "execution_count": 7
        }
      ],
      "source": [
        "# Exibição da base de dados 'base_risco_credito'\n",
        "# O retorno será a exibição dos dados contidos na variável 'base_risco_credito'.\n",
        "\n",
        "base_risco_credito"
      ]
    },
    {
      "cell_type": "code",
      "execution_count": null,
      "metadata": {
        "colab": {
          "base_uri": "https://localhost:8080/"
        },
        "id": "S6fpfEpvFtgl",
        "outputId": "95380387-3a3f-4793-ad01-2f9bf9598102"
      },
      "outputs": [
        {
          "output_type": "execute_result",
          "data": {
            "text/plain": [
              "[historia, divida, garantias, renda | risco]"
            ]
          },
          "metadata": {},
          "execution_count": 8
        }
      ],
      "source": [
        "# Acesso ao domínio da base de dados 'base_risco_credito'\n",
        "# Espera-se que a variável 'base_risco_credito' contenha os dados carregados da base de dados 'risco_credito_regras.csv'.\n",
        "# O retorno será o acesso ao domínio da base de dados, que descreve os atributos e metadados dos dados contidos na base.\n",
        "\n",
        "base_risco_credito.domain"
      ]
    },
    {
      "cell_type": "code",
      "execution_count": null,
      "metadata": {
        "id": "Kz0nmdA1Fy67"
      },
      "outputs": [],
      "source": [
        "# Criação do classificador CN2 (regra criada em meados de 1980)\n",
        "# Função da Classe: Implementa o algoritmo de aprendizado CN2 para geração de regras de classificação.\n",
        "# Espera-se que o classificador CN2 seja criado com sucesso e atribuído à variável 'cn2'.\n",
        "\n",
        "cn2 = Orange.classification.rules.CN2Learner()\n",
        "\n",
        "# Geração de regras de classificação para a base de dados 'base_risco_credito'\n",
        "# Biblioteca Orange: Plataforma de análise de dados e machine learning.\n",
        "# Classe: Orange.classification.rules.CN2Learner\n",
        "# Função da Classe: Gera regras de classificação utilizando o algoritmo CN2.\n",
        "# Espera-se que as regras de classificação sejam geradas com sucesso para a base de dados 'base_risco_credito' e\n",
        "# atribuídas à variável 'regras_risco_credito'.\n",
        "regras_risco_credito = cn2(base_risco_credito)"
      ]
    },
    {
      "cell_type": "code",
      "execution_count": null,
      "metadata": {
        "colab": {
          "base_uri": "https://localhost:8080/"
        },
        "id": "5k6XhEgSGK4i",
        "outputId": "d82ae2e7-9e5d-41e6-e2e5-154e711c8cb7"
      },
      "outputs": [
        {
          "output_type": "stream",
          "name": "stdout",
          "text": [
            "IF renda==0_15 THEN risco=alto \n",
            "IF historia==boa AND divida!=alta THEN risco=baixo \n",
            "IF historia==boa AND garantias!=nenhuma THEN risco=baixo \n",
            "IF historia==boa AND renda!=15_35 THEN risco=baixo \n",
            "IF historia==boa THEN risco=moderado \n",
            "IF divida==alta THEN risco=alto \n",
            "IF historia!=desconhecida THEN risco=moderado \n",
            "IF garantias==adequada THEN risco=baixo \n",
            "IF renda==15_35 THEN risco=moderado \n",
            "IF historia==desconhecida THEN risco=alto \n",
            "IF TRUE THEN risco=alto \n"
          ]
        }
      ],
      "source": [
        "# Impressão das regras de classificação aprendidas pelo classificador CN2\n",
        "# Espera-se que cada regra contida em 'regras_risco_credito.rule_list' seja impressa para exibir as regras aprendidas pelo classificador CN2.\n",
        "# Para cada regra em 'regras_risco_credito.rule_list', imprime a regra gerada.\n",
        "\n",
        "for regras in regras_risco_credito.rule_list:\n",
        "  print(regras)"
      ]
    },
    {
      "cell_type": "markdown",
      "source": [
        "- Se a renda for de 0 a 15 e qualquer outra condição não se aplicar, o risco é classificado como alto.\n",
        "- Se a história de crédito for boa e a dívida não for alta, o risco é classificado como baixo.\n",
        "- Se a história de crédito for boa e houver garantias, o risco é classificado como baixo.\n",
        "- Se a história de crédito for boa e a renda não estiver na faixa de 15 a 35, o risco é classificado como baixo.\n",
        "- Se a história de crédito for boa, mas nenhuma condição específica for atendida, o risco é classificado como moderado.\n",
        "- Se a dívida for alta, o risco é classificado como alto.\n",
        "- Se a história de crédito não for desconhecida, o risco é classificado como moderado.\n",
        "- Se houver garantias adequadas, o risco é classificado como baixo.\n",
        "- Se a renda estiver na faixa de 15 a 35, o risco é classificado como moderado.\n",
        "- Se a história de crédito for desconhecida, o risco é classificado como alto.\n",
        "- Se nenhuma das condições anteriores se aplicar, o risco é classificado como alto."
      ],
      "metadata": {
        "id": "6l38-uZ4NIxl"
      }
    },
    {
      "cell_type": "code",
      "execution_count": null,
      "metadata": {
        "colab": {
          "base_uri": "https://localhost:8080/"
        },
        "id": "zCvmpF6QGd6b",
        "outputId": "bbda2f1d-82e4-41e0-e9ca-f880a395ccd8"
      },
      "outputs": [
        {
          "output_type": "execute_result",
          "data": {
            "text/plain": [
              "array([1, 0])"
            ]
          },
          "metadata": {},
          "execution_count": 12
        }
      ],
      "source": [
        "# história boa, dívida alta, garantias nenhuma, renda > 35\n",
        "# história ruim, dívida alta, garantias adequada, renda < 15\n",
        "# Espera-se que as previsões sejam feitas com base nas regras aprendidas pelo classificador CN2.\n",
        "# Para cada conjunto de características fornecidas como entrada, as previsões são geradas com base nas regras de classificação.\n",
        "previsoes = regras_risco_credito([['boa', 'alta', 'nenhuma', 'acima_35'], ['ruim', 'alta', 'adequada', '0_15']])\n",
        "previsoes"
      ]
    },
    {
      "cell_type": "markdown",
      "source": [
        "O retorno [1, 0] indica as previsões de risco feitas pelo classificador CN2 para os dois conjuntos de características fornecidos como entrada.\n",
        "\n",
        "Para o primeiro conjunto de características (['boa', 'alta', 'nenhuma', 'acima_35']), o modelo prevê um risco alto, representado pelo valor 1.\n",
        "Para o segundo conjunto de características (['ruim', 'alta', 'adequada', '0_15']), o modelo prevê um risco baixo, representado pelo valor 0."
      ],
      "metadata": {
        "id": "US3wdzscN5F6"
      }
    },
    {
      "cell_type": "markdown",
      "source": [
        "* **Obervação** :\n",
        "Nesse estudo de caso, não precisamos fazer a conversão de atributo categórico para atributo numérico, por meio do label encoder, pois esse algoritmo consegue trabalhar com atributos categóricos"
      ],
      "metadata": {
        "id": "YOGQwtfdNbNP"
      }
    },
    {
      "cell_type": "code",
      "source": [
        "# O retorno será o domínio da base de dados, que descreve os atributos e metadados dos dados contidos na base.\n",
        "# No domínio, os atributos são 'historia', 'divida', 'garantias' e 'renda', com a variável alvo|classe 'risco'.\n",
        "base_risco_credito.domain"
      ],
      "metadata": {
        "colab": {
          "base_uri": "https://localhost:8080/"
        },
        "id": "to78DZJfOFIC",
        "outputId": "6fcd1e69-e388-41b9-d03a-b93c33ec37f6"
      },
      "execution_count": null,
      "outputs": [
        {
          "output_type": "execute_result",
          "data": {
            "text/plain": [
              "[historia, divida, garantias, renda | risco]"
            ]
          },
          "metadata": {},
          "execution_count": 13
        }
      ]
    },
    {
      "cell_type": "code",
      "execution_count": null,
      "metadata": {
        "colab": {
          "base_uri": "https://localhost:8080/"
        },
        "id": "GrdBdDmpG7tR",
        "outputId": "2fd3fedb-3726-4d76-b7c9-6856f7c2fc69"
      },
      "outputs": [
        {
          "output_type": "execute_result",
          "data": {
            "text/plain": [
              "('alto', 'baixo', 'moderado')"
            ]
          },
          "metadata": {},
          "execution_count": 14
        }
      ],
      "source": [
        "# O retorno será uma lista contendo os valores possíveis da variável de classe.\n",
        "base_risco_credito.domain.class_var.values"
      ]
    },
    {
      "cell_type": "code",
      "execution_count": null,
      "metadata": {
        "colab": {
          "base_uri": "https://localhost:8080/"
        },
        "id": "UP6orLokHKIc",
        "outputId": "ecbfa82a-036e-425a-8d4b-3705d01e394e"
      },
      "outputs": [
        {
          "output_type": "stream",
          "name": "stdout",
          "text": [
            "baixo\n",
            "alto\n"
          ]
        }
      ],
      "source": [
        "#O loop for é utilizado para percorrer cada uma das previsões contidas na lista previsoes. Cada previsão é representada por um valor inteiro, que corresponde a uma classe específica de risco.\n",
        "# Espera-se que para cada previsão contida em 'previsoes', a função de impressão seja utilizada para exibir o risco correspondente com base nos valores possíveis da variável de classe.\n",
        "for i in previsoes:\n",
        "  #print(i)\n",
        "  print(base_risco_credito.domain.class_var.values[i])"
      ]
    },
    {
      "cell_type": "markdown",
      "metadata": {
        "id": "SN9q4qQiDIsi"
      },
      "source": [
        "## Base credit data - 97.40%"
      ]
    },
    {
      "cell_type": "code",
      "execution_count": null,
      "metadata": {
        "id": "QuSE07tsIuKc"
      },
      "outputs": [],
      "source": [
        "base_credit = Orange.data.Table('/content/drive/MyDrive/ML e Data Sciece com python/dataset/credit_risc/credit_data_regras.csv')"
      ]
    },
    {
      "cell_type": "code",
      "execution_count": null,
      "metadata": {
        "colab": {
          "base_uri": "https://localhost:8080/"
        },
        "id": "dobXFvYAJHSV",
        "outputId": "3138042b-50e0-42e9-92ec-63a990c83b1d"
      },
      "outputs": [
        {
          "output_type": "execute_result",
          "data": {
            "text/plain": [
              "[income, age, loan | default]"
            ]
          },
          "metadata": {},
          "execution_count": 20
        }
      ],
      "source": [
        "base_credit.domain"
      ]
    },
    {
      "cell_type": "code",
      "execution_count": null,
      "metadata": {
        "id": "SkJKeptJJTFp"
      },
      "outputs": [],
      "source": [
        "base_dividida = Orange.evaluation.testing.sample(base_credit, n = 0.25)"
      ]
    },
    {
      "cell_type": "code",
      "execution_count": null,
      "metadata": {
        "colab": {
          "base_uri": "https://localhost:8080/"
        },
        "id": "woLF8PBXJc88",
        "outputId": "4160c5c1-80f2-476c-8e43-d114c6dc7856"
      },
      "outputs": [
        {
          "output_type": "execute_result",
          "data": {
            "text/plain": [
              "([[38337.8, 55.507, 5691.09 | 0],\n",
              "  [50275.9, 41.8198, 5541.82 | 0],\n",
              "  [60041, 44.1414, 2659.69 | 0],\n",
              "  [55040.8, 52.7145, 8352.06 | 0],\n",
              "  [43044.5, 60.8484, 1661.71 | 0],\n",
              "  ...\n",
              " ],\n",
              " [[55858.5, 25.8665, 5630.44 | 0],\n",
              "  [25640.1, 22.6565, 3105.44 | 1],\n",
              "  [48018.2, 50.2041, 6120.09 | 0],\n",
              "  [51894.5, 59.0038, 6579.53 | 0],\n",
              "  [25686.8, 35.8507, 3728.4 | 0],\n",
              "  ...\n",
              " ])"
            ]
          },
          "metadata": {},
          "execution_count": 22
        }
      ],
      "source": [
        "base_dividida"
      ]
    },
    {
      "cell_type": "code",
      "execution_count": null,
      "metadata": {
        "colab": {
          "base_uri": "https://localhost:8080/"
        },
        "id": "q5Nhh6j4JjZw",
        "outputId": "1181d5af-5d39-484c-c1ca-4c12dca2563b"
      },
      "outputs": [
        {
          "output_type": "execute_result",
          "data": {
            "text/plain": [
              "[[38337.8, 55.507, 5691.09 | 0],\n",
              " [50275.9, 41.8198, 5541.82 | 0],\n",
              " [60041, 44.1414, 2659.69 | 0],\n",
              " [55040.8, 52.7145, 8352.06 | 0],\n",
              " [43044.5, 60.8484, 1661.71 | 0],\n",
              " ...\n",
              "]"
            ]
          },
          "metadata": {},
          "execution_count": 23
        }
      ],
      "source": [
        "base_dividida[0]"
      ]
    },
    {
      "cell_type": "code",
      "execution_count": null,
      "metadata": {
        "colab": {
          "base_uri": "https://localhost:8080/"
        },
        "id": "hqZ62jxpJmUo",
        "outputId": "f69e66da-6339-458b-dd9f-3294774345a1"
      },
      "outputs": [
        {
          "output_type": "execute_result",
          "data": {
            "text/plain": [
              "[[55858.5, 25.8665, 5630.44 | 0],\n",
              " [25640.1, 22.6565, 3105.44 | 1],\n",
              " [48018.2, 50.2041, 6120.09 | 0],\n",
              " [51894.5, 59.0038, 6579.53 | 0],\n",
              " [25686.8, 35.8507, 3728.4 | 0],\n",
              " ...\n",
              "]"
            ]
          },
          "metadata": {},
          "execution_count": 24
        }
      ],
      "source": [
        "base_dividida[1]"
      ]
    },
    {
      "cell_type": "code",
      "execution_count": null,
      "metadata": {
        "id": "UiDXtlkfJpvt"
      },
      "outputs": [],
      "source": [
        "base_treinamento = base_dividida[1]\n",
        "base_teste = base_dividida[0]"
      ]
    },
    {
      "cell_type": "code",
      "execution_count": null,
      "metadata": {
        "colab": {
          "base_uri": "https://localhost:8080/"
        },
        "id": "vy3NAF4FJyb6",
        "outputId": "cd8b984a-4aa9-473b-d2af-55e60415feeb"
      },
      "outputs": [
        {
          "output_type": "execute_result",
          "data": {
            "text/plain": [
              "(1500, 500)"
            ]
          },
          "metadata": {},
          "execution_count": 26
        }
      ],
      "source": [
        "len(base_treinamento), len(base_teste)"
      ]
    },
    {
      "cell_type": "code",
      "execution_count": null,
      "metadata": {
        "id": "yX98QMQTJ4OB"
      },
      "outputs": [],
      "source": [
        "cn2 = Orange.classification.rules.CN2Learner()\n",
        "regras_credit = cn2(base_treinamento)"
      ]
    },
    {
      "cell_type": "code",
      "execution_count": null,
      "metadata": {
        "colab": {
          "base_uri": "https://localhost:8080/"
        },
        "id": "cAyvYmKVKBax",
        "outputId": "6086deae-ab68-4c0f-d9bb-91038e844b94"
      },
      "outputs": [
        {
          "output_type": "stream",
          "name": "stdout",
          "text": [
            "IF age>=34.9015168333426 THEN default=0 \n",
            "IF income>=69478.3987640403 THEN default=1 \n",
            "IF loan<=2495.13299137587 AND income>=20145.9885970689 THEN default=0 \n",
            "IF loan>=7708.31562497011 AND loan>=9601.375482171099 THEN default=1 \n",
            "IF income<=34145.7995516248 AND age>=34.7410444347188 THEN default=0 \n",
            "IF income>=58132.4712652713 AND income>=68762.4166649766 THEN default=0 \n",
            "IF loan>=7395.513416308141 AND age>=18.621307099238 THEN default=1 \n",
            "IF income>=57596.3540980592 AND age>=18.605122473090898 THEN default=0 \n",
            "IF age<=18.055874488782102 AND income>=50501.7266888171 THEN default=0 \n",
            "IF loan>=6241.27050834808 THEN default=1 \n",
            "IF income>=46024.1445619613 AND income>=49205.6370992213 THEN default=0 \n",
            "IF loan<=3716.2546852118 AND income>=29724.4768752716 THEN default=0 \n",
            "IF loan>=5785.88427485782 THEN default=1 \n",
            "IF income<=37277.1230572835 AND age>=31.8068806584924 THEN default=1 \n",
            "IF loan>=5722.58198121271 THEN default=0 \n",
            "IF loan>=5502.73603087282 THEN default=1 \n",
            "IF age>=31.4007989270613 THEN default=0 \n",
            "IF age>=28.797041818499604 THEN default=1 \n",
            "IF age>=28.616509240120603 THEN default=0 \n",
            "IF age>=24.7831077934243 AND income>=37277.1230572835 THEN default=0 \n",
            "IF age>=24.7831077934243 THEN default=1 \n",
            "IF income>=40496.2558229454 THEN default=0 \n",
            "IF age>=22.983635846059798 THEN default=1 \n",
            "IF age>=22.6691616862081 THEN default=0 \n",
            "IF age>=21.6304703606293 THEN default=1 \n",
            "IF age>=21.598676353692998 THEN default=0 \n",
            "IF loan>=4098.11578954984 THEN default=1 \n",
            "IF age>=19.2075996422209 AND loan>=2690.76813397945 THEN default=1 \n",
            "IF income<=38129.754869733 THEN default=0 \n",
            "IF TRUE THEN default=0 \n"
          ]
        }
      ],
      "source": [
        "for regras in regras_credit.rule_list:\n",
        "  print(regras)"
      ]
    },
    {
      "cell_type": "code",
      "execution_count": null,
      "metadata": {
        "id": "yl6zfDdlKZU8"
      },
      "outputs": [],
      "source": [
        "previsoes = Orange.evaluation.testing.TestOnTestData(base_treinamento, base_teste, [lambda testdata: regras_credit])"
      ]
    },
    {
      "cell_type": "code",
      "execution_count": null,
      "metadata": {
        "colab": {
          "base_uri": "https://localhost:8080/"
        },
        "id": "PT0mtQHRKqzJ",
        "outputId": "27a73d43-2fad-4a32-9f67-41bb5b09d93f"
      },
      "outputs": [
        {
          "output_type": "execute_result",
          "data": {
            "text/plain": [
              "<Orange.evaluation.testing.Results at 0x7c72945f3ac0>"
            ]
          },
          "metadata": {},
          "execution_count": 30
        }
      ],
      "source": [
        "previsoes"
      ]
    },
    {
      "cell_type": "code",
      "execution_count": null,
      "metadata": {
        "colab": {
          "base_uri": "https://localhost:8080/"
        },
        "id": "cBo2fgbsKvUo",
        "outputId": "4ec95e26-97ad-467b-cc94-3964ec248361"
      },
      "outputs": [
        {
          "output_type": "execute_result",
          "data": {
            "text/plain": [
              "array([0.962])"
            ]
          },
          "metadata": {},
          "execution_count": 31
        }
      ],
      "source": [
        "Orange.evaluation.CA(previsoes)"
      ]
    }
  ]
}