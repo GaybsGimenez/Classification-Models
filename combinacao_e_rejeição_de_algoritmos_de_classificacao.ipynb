{
  "nbformat": 4,
  "nbformat_minor": 0,
  "metadata": {
    "colab": {
      "provenance": []
    },
    "kernelspec": {
      "name": "python3",
      "display_name": "Python 3"
    },
    "language_info": {
      "name": "python"
    }
  },
  "cells": [
    {
      "cell_type": "markdown",
      "metadata": {
        "id": "IE2LDIuAdVf2"
      },
      "source": [
        "# Carregar um classificador já treinado"
      ]
    },
    {
      "cell_type": "code",
      "execution_count": null,
      "metadata": {
        "id": "jFS52QjkkLEP"
      },
      "outputs": [],
      "source": [
        "rede_neural = pickle.load(open('rede_neural_finalizado.sav', 'rb'))\n",
        "arvore = pickle.load(open('arvore_finalizado.sav', 'rb'))\n",
        "svm = pickle.load(open('svm_finalizado.sav', 'rb'))"
      ]
    },
    {
      "cell_type": "code",
      "execution_count": null,
      "metadata": {
        "colab": {
          "base_uri": "https://localhost:8080/"
        },
        "id": "ZhRtIsh_kn4B",
        "outputId": "43aa254e-3aba-44ce-b51c-33295c785766"
      },
      "outputs": [
        {
          "output_type": "execute_result",
          "data": {
            "text/plain": [
              "array([-1.03572293, -0.93978122,  0.04244312])"
            ]
          },
          "metadata": {},
          "execution_count": 36
        }
      ],
      "source": [
        "novo_registro = X_credit[1999]\n",
        "novo_registro"
      ]
    },
    {
      "cell_type": "code",
      "execution_count": null,
      "metadata": {
        "colab": {
          "base_uri": "https://localhost:8080/"
        },
        "id": "y02JAV9WkyEx",
        "outputId": "90ba77aa-b64c-4494-b4b1-6209bc0a9489"
      },
      "outputs": [
        {
          "output_type": "execute_result",
          "data": {
            "text/plain": [
              "(3,)"
            ]
          },
          "metadata": {},
          "execution_count": 37
        }
      ],
      "source": [
        "novo_registro.shape"
      ]
    },
    {
      "cell_type": "code",
      "execution_count": null,
      "metadata": {
        "colab": {
          "base_uri": "https://localhost:8080/"
        },
        "id": "NdJ7vai0k-Nl",
        "outputId": "cb7f9b7a-6541-46ea-def9-5c553ff0d13f"
      },
      "outputs": [
        {
          "output_type": "execute_result",
          "data": {
            "text/plain": [
              "(1, 3)"
            ]
          },
          "metadata": {},
          "execution_count": 38
        }
      ],
      "source": [
        "novo_registro = novo_registro.reshape(1, -1)\n",
        "novo_registro.shape"
      ]
    },
    {
      "cell_type": "code",
      "execution_count": null,
      "metadata": {
        "colab": {
          "base_uri": "https://localhost:8080/"
        },
        "id": "DUw8747mlG5L",
        "outputId": "653be4ed-d14b-497e-958c-94c4b3b7f611"
      },
      "outputs": [
        {
          "output_type": "execute_result",
          "data": {
            "text/plain": [
              "array([[-1.03572293, -0.93978122,  0.04244312]])"
            ]
          },
          "metadata": {},
          "execution_count": 39
        }
      ],
      "source": [
        "novo_registro"
      ]
    },
    {
      "cell_type": "code",
      "execution_count": null,
      "metadata": {
        "colab": {
          "base_uri": "https://localhost:8080/"
        },
        "id": "VkIrzIRxk2GG",
        "outputId": "87bc5791-559a-4d03-f621-f61139ed2579"
      },
      "outputs": [
        {
          "output_type": "execute_result",
          "data": {
            "text/plain": [
              "array([1])"
            ]
          },
          "metadata": {},
          "execution_count": 40
        }
      ],
      "source": [
        "rede_neural.predict(novo_registro)"
      ]
    },
    {
      "cell_type": "code",
      "execution_count": null,
      "metadata": {
        "colab": {
          "base_uri": "https://localhost:8080/"
        },
        "id": "S-anyC6dlMWH",
        "outputId": "932b646a-cea2-4db8-a1bf-a7d894055ab8"
      },
      "outputs": [
        {
          "output_type": "execute_result",
          "data": {
            "text/plain": [
              "array([1])"
            ]
          },
          "metadata": {},
          "execution_count": 41
        }
      ],
      "source": [
        "arvore.predict(novo_registro)"
      ]
    },
    {
      "cell_type": "code",
      "execution_count": null,
      "metadata": {
        "colab": {
          "base_uri": "https://localhost:8080/"
        },
        "id": "_h1sPgiIlQ5a",
        "outputId": "248acbd3-adc6-407d-8e1d-990cf2fac891"
      },
      "outputs": [
        {
          "output_type": "execute_result",
          "data": {
            "text/plain": [
              "array([1])"
            ]
          },
          "metadata": {},
          "execution_count": 42
        }
      ],
      "source": [
        "svm.predict(novo_registro)"
      ]
    },
    {
      "cell_type": "markdown",
      "metadata": {
        "id": "D8SRPAsJmEs3"
      },
      "source": [
        "# Combinação de classificadores\n",
        "\n"
      ]
    },
    {
      "cell_type": "code",
      "execution_count": null,
      "metadata": {
        "colab": {
          "base_uri": "https://localhost:8080/"
        },
        "id": "FQL_bn8NmK2P",
        "outputId": "850a1070-99d0-49e3-9896-84c6794cd800"
      },
      "outputs": [
        {
          "output_type": "execute_result",
          "data": {
            "text/plain": [
              "(array([[-1.3754462 ,  0.50631087,  0.10980934]]), (1, 3))"
            ]
          },
          "metadata": {},
          "execution_count": 43
        }
      ],
      "source": [
        "novo_registro = X_credit[0]\n",
        "novo_registro = novo_registro.reshape(1, -1)\n",
        "novo_registro, novo_registro.shape # para colocar em formato de matriz"
      ]
    },
    {
      "cell_type": "code",
      "execution_count": null,
      "metadata": {
        "id": "kerWrM_zmQvP"
      },
      "outputs": [],
      "source": [
        "resposta_rede_neural = rede_neural.predict(novo_registro)\n",
        "resposta_arvore = arvore.predict(novo_registro)\n",
        "resposta_svm = svm.predict(novo_registro)"
      ]
    },
    {
      "cell_type": "code",
      "execution_count": null,
      "metadata": {
        "colab": {
          "base_uri": "https://localhost:8080/"
        },
        "id": "SouSNSBbnA7T",
        "outputId": "bd0b617e-d051-4dd8-f681-1e59e9e1045a"
      },
      "outputs": [
        {
          "output_type": "execute_result",
          "data": {
            "text/plain": [
              "(0, 0, 0)"
            ]
          },
          "metadata": {},
          "execution_count": 45
        }
      ],
      "source": [
        "resposta_rede_neural[0], resposta_arvore[0], resposta_svm[0]\n",
        "# o retorno indica a classe, os 3 algoritmos retornaram a mesma classificação para uma mesma feature"
      ]
    },
    {
      "cell_type": "code",
      "source": [
        "# contagem de quantos classificadores gera a classe 0 (paga o emprestimo) e classe 1  (não paga o emprestimo)\n",
        "paga = 0\n",
        "nao_paga = 1\n",
        "\n",
        "if resposta_rede_neural[0] == 1:\n",
        "  nao_paga += 1\n",
        "else:\n",
        "  paga += 1\n",
        "\n",
        "if resposta_arvore[0] == 1:\n",
        "  nao_paga += 1\n",
        "else:\n",
        "  paga += 1\n",
        "\n",
        "if resposta_svm[0] == 1:\n",
        "  nao_paga += 1\n",
        "else:\n",
        "  paga += 1\n",
        "\n",
        "if paga > nao_paga:\n",
        "  print(\"Cliente pagará o empréstimo\")\n",
        "elif paga == nao_paga:\n",
        "  print(\"Empate\")\n",
        "else:\n",
        "  print(\"Cliente não pagará o empréstimo\")"
      ],
      "metadata": {
        "colab": {
          "base_uri": "https://localhost:8080/"
        },
        "id": "yufSiA2lL-jX",
        "outputId": "b0474606-3281-4eac-a560-79bd4e4e22ee"
      },
      "execution_count": null,
      "outputs": [
        {
          "output_type": "stream",
          "name": "stdout",
          "text": [
            "Cliente pagará o empréstimo\n"
          ]
        }
      ]
    },
    {
      "cell_type": "markdown",
      "metadata": {
        "id": "P3OWvpIvmIDH"
      },
      "source": [
        "# Rejeição de classificadores"
      ]
    },
    {
      "cell_type": "code",
      "execution_count": null,
      "metadata": {
        "colab": {
          "base_uri": "https://localhost:8080/"
        },
        "id": "qWctOdKjpDWf",
        "outputId": "c13c4389-4082-4893-8345-4592006719ca"
      },
      "outputs": [
        {
          "output_type": "execute_result",
          "data": {
            "text/plain": [
              "(array([[-1.3754462 ,  0.50631087,  0.10980934]]), (1, 3))"
            ]
          },
          "metadata": {},
          "execution_count": 51
        }
      ],
      "source": [
        "novo_registro = X_credit[0]\n",
        "novo_registro = novo_registro.reshape(1, -1)\n",
        "novo_registro, novo_registro.shape\n",
        "\n",
        "# retorna dados do cliente\n",
        "# primeiro atributo renda = -1.3754462\n",
        "# segundo atributo idade = 0.50631087\n",
        "# terceiro atributo divida = 0.10980934"
      ]
    },
    {
      "cell_type": "code",
      "execution_count": null,
      "metadata": {
        "id": "SA23SCvapLPB"
      },
      "outputs": [],
      "source": [
        "resposta_rede_neural = rede_neural.predict(novo_registro)\n",
        "resposta_arvore = arvore.predict(novo_registro) # metodo predict retorna somente a classe\n",
        "resposta_svm = svm.predict(novo_registro)"
      ]
    },
    {
      "cell_type": "code",
      "execution_count": null,
      "metadata": {
        "colab": {
          "base_uri": "https://localhost:8080/"
        },
        "id": "roB4WLMqpPFN",
        "outputId": "cc8caea9-c33a-4292-a92b-6291355a28eb"
      },
      "outputs": [
        {
          "output_type": "execute_result",
          "data": {
            "text/plain": [
              "(0, 0, 0)"
            ]
          },
          "metadata": {},
          "execution_count": 54
        }
      ],
      "source": [
        "resposta_rede_neural[0], resposta_arvore[0], resposta_svm[0]"
      ]
    },
    {
      "cell_type": "markdown",
      "source": [
        "#### Confiança para Rede_neural"
      ],
      "metadata": {
        "id": "EcdUN0FTev2P"
      }
    },
    {
      "cell_type": "code",
      "execution_count": null,
      "metadata": {
        "colab": {
          "base_uri": "https://localhost:8080/"
        },
        "id": "A5pTxq8apoM4",
        "outputId": "d87726c7-268a-4efd-a96f-243873fccee9"
      },
      "outputs": [
        {
          "output_type": "execute_result",
          "data": {
            "text/plain": [
              "array([[1.00000000e+00, 6.72352972e-17]])"
            ]
          },
          "metadata": {},
          "execution_count": 55
        }
      ],
      "source": [
        "# para a REJEIÇÃO precisamos extrair a PROBABILIDADE\n",
        "\n",
        "# criação da variação probabilidade_rede_neural\n",
        "probabilidade_rede_neural = rede_neural.predict_proba(novo_registro) # metodo predict_proba que vai passar o novo_registro como argumento\n",
        "probabilidade_rede_neural\n",
        "\n",
        "# retorna uma probabilidade para a classe 0 (1.00000000e+00) e outra pra a classe 1 (6.72352972e-17)"
      ]
    },
    {
      "cell_type": "code",
      "execution_count": null,
      "metadata": {
        "colab": {
          "base_uri": "https://localhost:8080/"
        },
        "id": "wStt8iSIp_yc",
        "outputId": "50bd2345-585c-4d99-ab33-56e48cf47c4b"
      },
      "outputs": [
        {
          "output_type": "execute_result",
          "data": {
            "text/plain": [
              "0.9999999999999999"
            ]
          },
          "metadata": {},
          "execution_count": 56
        }
      ],
      "source": [
        "# buscar o maior valor de probabilidade que foi previsto\n",
        "\n",
        "confianca_rede_neural = probabilidade_rede_neural.max()\n",
        "confianca_rede_neural\n",
        "\n",
        "# retorno é 0.9999999999999999 de chances de um registro que paga o emprestimo"
      ]
    },
    {
      "cell_type": "markdown",
      "source": [
        "#### Confiança para arvore de decisão"
      ],
      "metadata": {
        "id": "7CJZB0Z5ez4-"
      }
    },
    {
      "cell_type": "code",
      "execution_count": null,
      "metadata": {
        "colab": {
          "base_uri": "https://localhost:8080/"
        },
        "id": "S1mgc0duqMa9",
        "outputId": "f5d6de0d-f0a2-4af8-9a6e-bf8caa2aed45"
      },
      "outputs": [
        {
          "output_type": "execute_result",
          "data": {
            "text/plain": [
              "1.0"
            ]
          },
          "metadata": {},
          "execution_count": 57
        }
      ],
      "source": [
        "probabilidade_arvore = arvore.predict_proba(novo_registro)\n",
        "confianca_arvore = probabilidade_arvore.max()\n",
        "confianca_arvore"
      ]
    },
    {
      "cell_type": "markdown",
      "source": [
        "#### Confiança para SVM"
      ],
      "metadata": {
        "id": "LvtkUTrIe4xH"
      }
    },
    {
      "cell_type": "code",
      "execution_count": null,
      "metadata": {
        "colab": {
          "base_uri": "https://localhost:8080/"
        },
        "id": "ehUJYI79qX6D",
        "outputId": "fb0274fd-7d83-497d-d520-3b74761cc020"
      },
      "outputs": [
        {
          "output_type": "execute_result",
          "data": {
            "text/plain": [
              "0.9999972331211946"
            ]
          },
          "metadata": {},
          "execution_count": 59
        }
      ],
      "source": [
        "probabilidade_svm = svm.predict_proba(novo_registro)\n",
        "confianca_svm = probabilidade_svm.max()\n",
        "confianca_svm"
      ]
    },
    {
      "cell_type": "markdown",
      "source": [
        "#### Rejeição: adicionar um parametro de confiança minina desejada"
      ],
      "metadata": {
        "id": "rQMjKDp5fNDW"
      }
    },
    {
      "cell_type": "code",
      "execution_count": null,
      "metadata": {
        "colab": {
          "base_uri": "https://localhost:8080/"
        },
        "id": "r7Jn8d8uq2rN",
        "outputId": "32a114e0-7926-435a-de78-9fb6ddc1260f"
      },
      "outputs": [
        {
          "output_type": "stream",
          "name": "stdout",
          "text": [
            "Cliente pagará o empréstimo, baseado em 2 algoritmos\n"
          ]
        }
      ],
      "source": [
        "paga = 0\n",
        "nao_paga = 0\n",
        "confianca_minima = 0.999999\n",
        "algoritmos = 0\n",
        "\n",
        "if confianca_rede_neural >= confianca_minima:\n",
        "  algoritmos += 1\n",
        "  if resposta_rede_neural[0] == 1:\n",
        "    nao_paga += 1\n",
        "  else:\n",
        "    paga += 1\n",
        "\n",
        "if confianca_arvore >= confianca_minima:\n",
        "  algoritmos += 1\n",
        "  if resposta_arvore[0] == 1:\n",
        "    nao_paga += 1\n",
        "  else:\n",
        "    paga += 1\n",
        "\n",
        "if confianca_svm >= confianca_minima:\n",
        "  algoritmos += 1\n",
        "  if resposta_svm[0] == 1:\n",
        "    nao_paga += 1\n",
        "  else:\n",
        "    paga += 1\n",
        "\n",
        "if paga > nao_paga:\n",
        "  print('Cliente pagará o empréstimo, baseado em {} algoritmos'.format(algoritmos))\n",
        "elif paga == nao_paga:\n",
        "  print('Empate, baseado em {} algoritmos'.format(algoritmos))\n",
        "else:\n",
        "  print('Cliente não pagará o empréstimo, baseado em {} algoritmos'.format(algoritmos))"
      ]
    }
  ]
}