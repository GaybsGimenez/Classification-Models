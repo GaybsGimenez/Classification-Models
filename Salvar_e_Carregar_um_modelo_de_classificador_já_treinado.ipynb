{
  "nbformat": 4,
  "nbformat_minor": 0,
  "metadata": {
    "colab": {
      "provenance": []
    },
    "kernelspec": {
      "name": "python3",
      "display_name": "Python 3"
    },
    "language_info": {
      "name": "python"
    }
  },
  "cells": [
    {
      "cell_type": "code",
      "source": [
        "import pickle\n",
        "import numpy as np\n",
        "import pandas as pd\n",
        "\n",
        "from sklearn.neural_network import MLPClassifier\n",
        "from sklearn.tree import DecisionTreeClassifier\n",
        "from sklearn.svm import SVC"
      ],
      "metadata": {
        "id": "IzchFwAVkY8F"
      },
      "execution_count": 10,
      "outputs": []
    },
    {
      "cell_type": "markdown",
      "metadata": {
        "id": "wo_FnyqZdSHP"
      },
      "source": [
        "# Salvar um classificador já treinado"
      ]
    },
    {
      "cell_type": "code",
      "execution_count": 5,
      "metadata": {
        "id": "z6IYwDGldXxK"
      },
      "outputs": [],
      "source": [
        "with open('/content/drive/MyDrive/ML e Data Sciece com python/dataset/credit_risc/credit.pkl', 'rb') as f:\n",
        "  X_credit_treinamento, y_credit_treinamento, X_credit_teste, y_credit_teste = pickle.load(f)"
      ]
    },
    {
      "cell_type": "markdown",
      "source": [
        "- `pickle`: Biblioteca Python para serialização e desserialização de objetos.\n",
        "- `open(...) as f`: Abre o arquivo pickle em modo leitura binária (`'rb'`).\n",
        "- `pickle.load(f)`: Carrega os dados contidos no arquivo pickle `f`.\n",
        "- `X_credit_treinamento, y_credit_treinamento, X_credit_teste, y_credit_teste`: Variáveis que recebem os dados de treinamento e teste carregados do arquivo.\n",
        "\n",
        "Certifique-se de ajustar o caminho do arquivo conforme necessário para o local onde o seu arquivo `credit.pkl` está armazenado."
      ],
      "metadata": {
        "id": "DBIvJvgck91r"
      }
    },
    {
      "cell_type": "code",
      "execution_count": 8,
      "metadata": {
        "id": "tAr2Qn4bdcE_"
      },
      "outputs": [],
      "source": [
        "# Concatenar os conjuntos de dados de crédito\n",
        "X_credit = np.concatenate((X_credit_treinamento, X_credit_teste), axis = 0)\n",
        "y_credit = np.concatenate((y_credit_treinamento, y_credit_teste), axis = 0)"
      ]
    },
    {
      "cell_type": "markdown",
      "source": [
        "\n",
        "- `np.concatenate(...)`: Função do NumPy para concatenar arrays ao longo de um eixo especificado (`axis=0` indica a concatenação ao longo das linhas).\n",
        "- `X_credit_treinamento, X_credit_teste`: Arrays de features (características) para treinamento e teste do conjunto de dados de crédito.\n",
        "- `y_credit_treinamento, y_credit_teste`: Arrays de labels (rótulos) para treinamento e teste do conjunto de dados de crédito.\n",
        "- `X_credit, y_credit`: Arrays resultantes que contêm todas as features e labels, respectivamente, após a concatenação.\n",
        "\n",
        "Esse processo é útil para consolidar dados de treinamento e teste em um único conjunto quando necessário para certos tipos de análises ou modelagem."
      ],
      "metadata": {
        "id": "BZvGmOv0lMhK"
      }
    },
    {
      "cell_type": "code",
      "execution_count": 9,
      "metadata": {
        "colab": {
          "base_uri": "https://localhost:8080/"
        },
        "id": "G2cSwOUgde_L",
        "outputId": "e681ae57-2bd5-41f8-9bee-0712c85dc669"
      },
      "outputs": [
        {
          "output_type": "execute_result",
          "data": {
            "text/plain": [
              "((2000, 3), (2000,))"
            ]
          },
          "metadata": {},
          "execution_count": 9
        }
      ],
      "source": [
        "# verificar as dimensões dos arrays X_credit e y_credit\n",
        "X_credit.shape, y_credit.shape"
      ]
    },
    {
      "cell_type": "markdown",
      "source": [
        "retornará as dimensões dos arrays X_credit e y_credit, fornecendo o número de amostras (linhas) e características (colunas) para X_credit, e o número de amostras para y_credit."
      ],
      "metadata": {
        "id": "WVw5msdYlccu"
      }
    },
    {
      "cell_type": "code",
      "execution_count": 11,
      "metadata": {
        "colab": {
          "base_uri": "https://localhost:8080/",
          "height": 129
        },
        "id": "pGNIuf7ng4Vu",
        "outputId": "ac8a1933-ddd9-4288-fc50-ce10efad46d2"
      },
      "outputs": [
        {
          "output_type": "stream",
          "name": "stderr",
          "text": [
            "/usr/local/lib/python3.10/dist-packages/sklearn/neural_network/_multilayer_perceptron.py:686: ConvergenceWarning: Stochastic Optimizer: Maximum iterations (200) reached and the optimization hasn't converged yet.\n",
            "  warnings.warn(\n"
          ]
        },
        {
          "output_type": "execute_result",
          "data": {
            "text/plain": [
              "MLPClassifier(batch_size=56)"
            ],
            "text/html": [
              "<style>#sk-container-id-1 {color: black;background-color: white;}#sk-container-id-1 pre{padding: 0;}#sk-container-id-1 div.sk-toggleable {background-color: white;}#sk-container-id-1 label.sk-toggleable__label {cursor: pointer;display: block;width: 100%;margin-bottom: 0;padding: 0.3em;box-sizing: border-box;text-align: center;}#sk-container-id-1 label.sk-toggleable__label-arrow:before {content: \"▸\";float: left;margin-right: 0.25em;color: #696969;}#sk-container-id-1 label.sk-toggleable__label-arrow:hover:before {color: black;}#sk-container-id-1 div.sk-estimator:hover label.sk-toggleable__label-arrow:before {color: black;}#sk-container-id-1 div.sk-toggleable__content {max-height: 0;max-width: 0;overflow: hidden;text-align: left;background-color: #f0f8ff;}#sk-container-id-1 div.sk-toggleable__content pre {margin: 0.2em;color: black;border-radius: 0.25em;background-color: #f0f8ff;}#sk-container-id-1 input.sk-toggleable__control:checked~div.sk-toggleable__content {max-height: 200px;max-width: 100%;overflow: auto;}#sk-container-id-1 input.sk-toggleable__control:checked~label.sk-toggleable__label-arrow:before {content: \"▾\";}#sk-container-id-1 div.sk-estimator input.sk-toggleable__control:checked~label.sk-toggleable__label {background-color: #d4ebff;}#sk-container-id-1 div.sk-label input.sk-toggleable__control:checked~label.sk-toggleable__label {background-color: #d4ebff;}#sk-container-id-1 input.sk-hidden--visually {border: 0;clip: rect(1px 1px 1px 1px);clip: rect(1px, 1px, 1px, 1px);height: 1px;margin: -1px;overflow: hidden;padding: 0;position: absolute;width: 1px;}#sk-container-id-1 div.sk-estimator {font-family: monospace;background-color: #f0f8ff;border: 1px dotted black;border-radius: 0.25em;box-sizing: border-box;margin-bottom: 0.5em;}#sk-container-id-1 div.sk-estimator:hover {background-color: #d4ebff;}#sk-container-id-1 div.sk-parallel-item::after {content: \"\";width: 100%;border-bottom: 1px solid gray;flex-grow: 1;}#sk-container-id-1 div.sk-label:hover label.sk-toggleable__label {background-color: #d4ebff;}#sk-container-id-1 div.sk-serial::before {content: \"\";position: absolute;border-left: 1px solid gray;box-sizing: border-box;top: 0;bottom: 0;left: 50%;z-index: 0;}#sk-container-id-1 div.sk-serial {display: flex;flex-direction: column;align-items: center;background-color: white;padding-right: 0.2em;padding-left: 0.2em;position: relative;}#sk-container-id-1 div.sk-item {position: relative;z-index: 1;}#sk-container-id-1 div.sk-parallel {display: flex;align-items: stretch;justify-content: center;background-color: white;position: relative;}#sk-container-id-1 div.sk-item::before, #sk-container-id-1 div.sk-parallel-item::before {content: \"\";position: absolute;border-left: 1px solid gray;box-sizing: border-box;top: 0;bottom: 0;left: 50%;z-index: -1;}#sk-container-id-1 div.sk-parallel-item {display: flex;flex-direction: column;z-index: 1;position: relative;background-color: white;}#sk-container-id-1 div.sk-parallel-item:first-child::after {align-self: flex-end;width: 50%;}#sk-container-id-1 div.sk-parallel-item:last-child::after {align-self: flex-start;width: 50%;}#sk-container-id-1 div.sk-parallel-item:only-child::after {width: 0;}#sk-container-id-1 div.sk-dashed-wrapped {border: 1px dashed gray;margin: 0 0.4em 0.5em 0.4em;box-sizing: border-box;padding-bottom: 0.4em;background-color: white;}#sk-container-id-1 div.sk-label label {font-family: monospace;font-weight: bold;display: inline-block;line-height: 1.2em;}#sk-container-id-1 div.sk-label-container {text-align: center;}#sk-container-id-1 div.sk-container {/* jupyter's `normalize.less` sets `[hidden] { display: none; }` but bootstrap.min.css set `[hidden] { display: none !important; }` so we also need the `!important` here to be able to override the default hidden behavior on the sphinx rendered scikit-learn.org. See: https://github.com/scikit-learn/scikit-learn/issues/21755 */display: inline-block !important;position: relative;}#sk-container-id-1 div.sk-text-repr-fallback {display: none;}</style><div id=\"sk-container-id-1\" class=\"sk-top-container\"><div class=\"sk-text-repr-fallback\"><pre>MLPClassifier(batch_size=56)</pre><b>In a Jupyter environment, please rerun this cell to show the HTML representation or trust the notebook. <br />On GitHub, the HTML representation is unable to render, please try loading this page with nbviewer.org.</b></div><div class=\"sk-container\" hidden><div class=\"sk-item\"><div class=\"sk-estimator sk-toggleable\"><input class=\"sk-toggleable__control sk-hidden--visually\" id=\"sk-estimator-id-1\" type=\"checkbox\" checked><label for=\"sk-estimator-id-1\" class=\"sk-toggleable__label sk-toggleable__label-arrow\">MLPClassifier</label><div class=\"sk-toggleable__content\"><pre>MLPClassifier(batch_size=56)</pre></div></div></div></div></div>"
            ]
          },
          "metadata": {},
          "execution_count": 11
        }
      ],
      "source": [
        "# Criar o classificador de rede neural\n",
        "classificador_rede_neural = MLPClassifier(activation='relu', batch_size=56, solver='adam')\n",
        "\n",
        "# Treinar o classificador com os dados de crédito combinados\n",
        "classificador_rede_neural.fit(X_credit, y_credit)"
      ]
    },
    {
      "cell_type": "markdown",
      "source": [
        "- `MLPClassifier`: Classe do scikit-learn que implementa uma rede neural multilayer perceptron para classificação.\n",
        "- `activation='relu'`: Função de ativação ReLU (Rectified Linear Unit) para as camadas ocultas da rede neural.\n",
        "- `batch_size=56`: Tamanho do lote utilizado durante o treinamento da rede neural.\n",
        "- `solver='adam'`: Otimizador Adam, que é eficiente para otimização de redes neurais.\n",
        "- `fit(X_credit, y_credit)`: Método para treinar o classificador com os dados `X_credit` (features) e `y_credit` (labels).\n",
        "\n",
        "Certifique-se de ajustar os parâmetros `activation`, `batch_size`, e `solver` conforme necessário para otimizar o desempenho do seu modelo de rede neural."
      ],
      "metadata": {
        "id": "XLeaZC4klreo"
      }
    },
    {
      "cell_type": "code",
      "execution_count": 12,
      "metadata": {
        "colab": {
          "base_uri": "https://localhost:8080/",
          "height": 74
        },
        "id": "3Df8-kTQhOyf",
        "outputId": "0696c18b-6618-47a6-e296-5e90cd131b98"
      },
      "outputs": [
        {
          "output_type": "execute_result",
          "data": {
            "text/plain": [
              "DecisionTreeClassifier(criterion='entropy', min_samples_split=5)"
            ],
            "text/html": [
              "<style>#sk-container-id-2 {color: black;background-color: white;}#sk-container-id-2 pre{padding: 0;}#sk-container-id-2 div.sk-toggleable {background-color: white;}#sk-container-id-2 label.sk-toggleable__label {cursor: pointer;display: block;width: 100%;margin-bottom: 0;padding: 0.3em;box-sizing: border-box;text-align: center;}#sk-container-id-2 label.sk-toggleable__label-arrow:before {content: \"▸\";float: left;margin-right: 0.25em;color: #696969;}#sk-container-id-2 label.sk-toggleable__label-arrow:hover:before {color: black;}#sk-container-id-2 div.sk-estimator:hover label.sk-toggleable__label-arrow:before {color: black;}#sk-container-id-2 div.sk-toggleable__content {max-height: 0;max-width: 0;overflow: hidden;text-align: left;background-color: #f0f8ff;}#sk-container-id-2 div.sk-toggleable__content pre {margin: 0.2em;color: black;border-radius: 0.25em;background-color: #f0f8ff;}#sk-container-id-2 input.sk-toggleable__control:checked~div.sk-toggleable__content {max-height: 200px;max-width: 100%;overflow: auto;}#sk-container-id-2 input.sk-toggleable__control:checked~label.sk-toggleable__label-arrow:before {content: \"▾\";}#sk-container-id-2 div.sk-estimator input.sk-toggleable__control:checked~label.sk-toggleable__label {background-color: #d4ebff;}#sk-container-id-2 div.sk-label input.sk-toggleable__control:checked~label.sk-toggleable__label {background-color: #d4ebff;}#sk-container-id-2 input.sk-hidden--visually {border: 0;clip: rect(1px 1px 1px 1px);clip: rect(1px, 1px, 1px, 1px);height: 1px;margin: -1px;overflow: hidden;padding: 0;position: absolute;width: 1px;}#sk-container-id-2 div.sk-estimator {font-family: monospace;background-color: #f0f8ff;border: 1px dotted black;border-radius: 0.25em;box-sizing: border-box;margin-bottom: 0.5em;}#sk-container-id-2 div.sk-estimator:hover {background-color: #d4ebff;}#sk-container-id-2 div.sk-parallel-item::after {content: \"\";width: 100%;border-bottom: 1px solid gray;flex-grow: 1;}#sk-container-id-2 div.sk-label:hover label.sk-toggleable__label {background-color: #d4ebff;}#sk-container-id-2 div.sk-serial::before {content: \"\";position: absolute;border-left: 1px solid gray;box-sizing: border-box;top: 0;bottom: 0;left: 50%;z-index: 0;}#sk-container-id-2 div.sk-serial {display: flex;flex-direction: column;align-items: center;background-color: white;padding-right: 0.2em;padding-left: 0.2em;position: relative;}#sk-container-id-2 div.sk-item {position: relative;z-index: 1;}#sk-container-id-2 div.sk-parallel {display: flex;align-items: stretch;justify-content: center;background-color: white;position: relative;}#sk-container-id-2 div.sk-item::before, #sk-container-id-2 div.sk-parallel-item::before {content: \"\";position: absolute;border-left: 1px solid gray;box-sizing: border-box;top: 0;bottom: 0;left: 50%;z-index: -1;}#sk-container-id-2 div.sk-parallel-item {display: flex;flex-direction: column;z-index: 1;position: relative;background-color: white;}#sk-container-id-2 div.sk-parallel-item:first-child::after {align-self: flex-end;width: 50%;}#sk-container-id-2 div.sk-parallel-item:last-child::after {align-self: flex-start;width: 50%;}#sk-container-id-2 div.sk-parallel-item:only-child::after {width: 0;}#sk-container-id-2 div.sk-dashed-wrapped {border: 1px dashed gray;margin: 0 0.4em 0.5em 0.4em;box-sizing: border-box;padding-bottom: 0.4em;background-color: white;}#sk-container-id-2 div.sk-label label {font-family: monospace;font-weight: bold;display: inline-block;line-height: 1.2em;}#sk-container-id-2 div.sk-label-container {text-align: center;}#sk-container-id-2 div.sk-container {/* jupyter's `normalize.less` sets `[hidden] { display: none; }` but bootstrap.min.css set `[hidden] { display: none !important; }` so we also need the `!important` here to be able to override the default hidden behavior on the sphinx rendered scikit-learn.org. See: https://github.com/scikit-learn/scikit-learn/issues/21755 */display: inline-block !important;position: relative;}#sk-container-id-2 div.sk-text-repr-fallback {display: none;}</style><div id=\"sk-container-id-2\" class=\"sk-top-container\"><div class=\"sk-text-repr-fallback\"><pre>DecisionTreeClassifier(criterion=&#x27;entropy&#x27;, min_samples_split=5)</pre><b>In a Jupyter environment, please rerun this cell to show the HTML representation or trust the notebook. <br />On GitHub, the HTML representation is unable to render, please try loading this page with nbviewer.org.</b></div><div class=\"sk-container\" hidden><div class=\"sk-item\"><div class=\"sk-estimator sk-toggleable\"><input class=\"sk-toggleable__control sk-hidden--visually\" id=\"sk-estimator-id-2\" type=\"checkbox\" checked><label for=\"sk-estimator-id-2\" class=\"sk-toggleable__label sk-toggleable__label-arrow\">DecisionTreeClassifier</label><div class=\"sk-toggleable__content\"><pre>DecisionTreeClassifier(criterion=&#x27;entropy&#x27;, min_samples_split=5)</pre></div></div></div></div></div>"
            ]
          },
          "metadata": {},
          "execution_count": 12
        }
      ],
      "source": [
        "# Criar o classificador de árvore de decisão\n",
        "classificador_arvore = DecisionTreeClassifier(criterion='entropy', min_samples_leaf=1, min_samples_split=5, splitter='best')\n",
        "\n",
        "# Treinar o classificador com os dados de crédito combinados\n",
        "classificador_arvore.fit(X_credit, y_credit)"
      ]
    },
    {
      "cell_type": "markdown",
      "source": [
        "- `DecisionTreeClassifier`: Classe do scikit-learn que implementa árvores de decisão para classificação.\n",
        "- `criterion='entropy'`: Critério para avaliar a qualidade da divisão dos nós da árvore, utilizando a entropia.\n",
        "- `min_samples_leaf=1`: Número mínimo de amostras necessárias para ser um nó folha.\n",
        "- `min_samples_split=5`: Número mínimo de amostras necessárias para dividir um nó interno.\n",
        "- `splitter='best'`: Estratégia utilizada para escolher a divisão em cada nó ('best' escolhe a melhor divisão).\n",
        "\n",
        "Ao ajustar esses parâmetros, você pode controlar a complexidade da árvore de decisão e evitar overfitting. O método `fit(X_credit, y_credit)` treina o classificador utilizando os dados de features `X_credit` e os rótulos `y_credit`."
      ],
      "metadata": {
        "id": "j8dOElj0l1IR"
      }
    },
    {
      "cell_type": "code",
      "execution_count": 13,
      "metadata": {
        "colab": {
          "base_uri": "https://localhost:8080/",
          "height": 74
        },
        "id": "_AevOaE1hf6c",
        "outputId": "0c84c834-370b-4a03-98e6-a6bd580599f8"
      },
      "outputs": [
        {
          "output_type": "execute_result",
          "data": {
            "text/plain": [
              "SVC(C=2.0, probability=True)"
            ],
            "text/html": [
              "<style>#sk-container-id-3 {color: black;background-color: white;}#sk-container-id-3 pre{padding: 0;}#sk-container-id-3 div.sk-toggleable {background-color: white;}#sk-container-id-3 label.sk-toggleable__label {cursor: pointer;display: block;width: 100%;margin-bottom: 0;padding: 0.3em;box-sizing: border-box;text-align: center;}#sk-container-id-3 label.sk-toggleable__label-arrow:before {content: \"▸\";float: left;margin-right: 0.25em;color: #696969;}#sk-container-id-3 label.sk-toggleable__label-arrow:hover:before {color: black;}#sk-container-id-3 div.sk-estimator:hover label.sk-toggleable__label-arrow:before {color: black;}#sk-container-id-3 div.sk-toggleable__content {max-height: 0;max-width: 0;overflow: hidden;text-align: left;background-color: #f0f8ff;}#sk-container-id-3 div.sk-toggleable__content pre {margin: 0.2em;color: black;border-radius: 0.25em;background-color: #f0f8ff;}#sk-container-id-3 input.sk-toggleable__control:checked~div.sk-toggleable__content {max-height: 200px;max-width: 100%;overflow: auto;}#sk-container-id-3 input.sk-toggleable__control:checked~label.sk-toggleable__label-arrow:before {content: \"▾\";}#sk-container-id-3 div.sk-estimator input.sk-toggleable__control:checked~label.sk-toggleable__label {background-color: #d4ebff;}#sk-container-id-3 div.sk-label input.sk-toggleable__control:checked~label.sk-toggleable__label {background-color: #d4ebff;}#sk-container-id-3 input.sk-hidden--visually {border: 0;clip: rect(1px 1px 1px 1px);clip: rect(1px, 1px, 1px, 1px);height: 1px;margin: -1px;overflow: hidden;padding: 0;position: absolute;width: 1px;}#sk-container-id-3 div.sk-estimator {font-family: monospace;background-color: #f0f8ff;border: 1px dotted black;border-radius: 0.25em;box-sizing: border-box;margin-bottom: 0.5em;}#sk-container-id-3 div.sk-estimator:hover {background-color: #d4ebff;}#sk-container-id-3 div.sk-parallel-item::after {content: \"\";width: 100%;border-bottom: 1px solid gray;flex-grow: 1;}#sk-container-id-3 div.sk-label:hover label.sk-toggleable__label {background-color: #d4ebff;}#sk-container-id-3 div.sk-serial::before {content: \"\";position: absolute;border-left: 1px solid gray;box-sizing: border-box;top: 0;bottom: 0;left: 50%;z-index: 0;}#sk-container-id-3 div.sk-serial {display: flex;flex-direction: column;align-items: center;background-color: white;padding-right: 0.2em;padding-left: 0.2em;position: relative;}#sk-container-id-3 div.sk-item {position: relative;z-index: 1;}#sk-container-id-3 div.sk-parallel {display: flex;align-items: stretch;justify-content: center;background-color: white;position: relative;}#sk-container-id-3 div.sk-item::before, #sk-container-id-3 div.sk-parallel-item::before {content: \"\";position: absolute;border-left: 1px solid gray;box-sizing: border-box;top: 0;bottom: 0;left: 50%;z-index: -1;}#sk-container-id-3 div.sk-parallel-item {display: flex;flex-direction: column;z-index: 1;position: relative;background-color: white;}#sk-container-id-3 div.sk-parallel-item:first-child::after {align-self: flex-end;width: 50%;}#sk-container-id-3 div.sk-parallel-item:last-child::after {align-self: flex-start;width: 50%;}#sk-container-id-3 div.sk-parallel-item:only-child::after {width: 0;}#sk-container-id-3 div.sk-dashed-wrapped {border: 1px dashed gray;margin: 0 0.4em 0.5em 0.4em;box-sizing: border-box;padding-bottom: 0.4em;background-color: white;}#sk-container-id-3 div.sk-label label {font-family: monospace;font-weight: bold;display: inline-block;line-height: 1.2em;}#sk-container-id-3 div.sk-label-container {text-align: center;}#sk-container-id-3 div.sk-container {/* jupyter's `normalize.less` sets `[hidden] { display: none; }` but bootstrap.min.css set `[hidden] { display: none !important; }` so we also need the `!important` here to be able to override the default hidden behavior on the sphinx rendered scikit-learn.org. See: https://github.com/scikit-learn/scikit-learn/issues/21755 */display: inline-block !important;position: relative;}#sk-container-id-3 div.sk-text-repr-fallback {display: none;}</style><div id=\"sk-container-id-3\" class=\"sk-top-container\"><div class=\"sk-text-repr-fallback\"><pre>SVC(C=2.0, probability=True)</pre><b>In a Jupyter environment, please rerun this cell to show the HTML representation or trust the notebook. <br />On GitHub, the HTML representation is unable to render, please try loading this page with nbviewer.org.</b></div><div class=\"sk-container\" hidden><div class=\"sk-item\"><div class=\"sk-estimator sk-toggleable\"><input class=\"sk-toggleable__control sk-hidden--visually\" id=\"sk-estimator-id-3\" type=\"checkbox\" checked><label for=\"sk-estimator-id-3\" class=\"sk-toggleable__label sk-toggleable__label-arrow\">SVC</label><div class=\"sk-toggleable__content\"><pre>SVC(C=2.0, probability=True)</pre></div></div></div></div></div>"
            ]
          },
          "metadata": {},
          "execution_count": 13
        }
      ],
      "source": [
        "# Criar o classificador SVM\n",
        "classificador_svm = SVC(C=2.0, kernel='rbf', probability=True)\n",
        "\n",
        "# Treinar o classificador com os dados de crédito combinados\n",
        "classificador_svm.fit(X_credit, y_credit)\n"
      ]
    },
    {
      "cell_type": "markdown",
      "source": [
        "- `SVC`: Classe do scikit-learn que implementa uma Support Vector Machine para classificação.\n",
        "- `C=2.0`: Parâmetro de regularização, controla o equilíbrio entre a margem de decisão e a classificação correta das amostras.\n",
        "- `kernel='rbf'`: Kernel usado pelo SVM, neste caso o RBF (Radial Basis Function), que é comumente usado para dados não lineares.\n",
        "- `probability=True`: Habilita o cálculo de probabilidades para as previsões, útil para algumas métricas de avaliação e métodos de ensamble.\n",
        "\n",
        "Ao utilizar SVMs, é importante ajustar o parâmetro `C` para otimizar o trade-off entre a suavidade da margem e a precisão do modelo. O método `fit(X_credit, y_credit)` treina o classificador utilizando os dados de features `X_credit` e os rótulos `y_credit`."
      ],
      "metadata": {
        "id": "N9mckQgwmB1h"
      }
    },
    {
      "cell_type": "code",
      "execution_count": 14,
      "metadata": {
        "id": "UQOyP8ZqhrQ6"
      },
      "outputs": [],
      "source": [
        "# Salvar o classificador de rede neural\n",
        "pickle.dump(classificador_rede_neural, open('/content/drive/MyDrive/ML e Data Sciece com python/dataset/credit_risc/Classificadores_finalizados/rede_neural_finalizado.sav', 'wb'))\n",
        "\n",
        "# Salvar o classificador de árvore de decisão\n",
        "pickle.dump(classificador_arvore, open('/content/drive/MyDrive/ML e Data Sciece com python/dataset/credit_risc/Classificadores_finalizados/arvore_finalizado.sav', 'wb'))\n",
        "\n",
        "# Salvar o classificador SVM\n",
        "pickle.dump(classificador_svm, open('/content/drive/MyDrive/ML e Data Sciece com python/dataset/credit_risc/Classificadores_finalizados/svm_finalizado.sav', 'wb'))"
      ]
    },
    {
      "cell_type": "markdown",
      "source": [
        "- `pickle.dump(objeto, arquivo)`: Função do pickle que serializa o objeto (`objeto`) para o arquivo especificado (`arquivo`) em modo de escrita binária (`'wb'`).\n",
        "- `classificador_rede_neural`, `classificador_arvore`, `classificador_svm`: São os objetos dos classificadores treinados que serão salvos.\n",
        "- `'rede_neural_finalizado.sav'`, `'arvore_finalizado.sav'`, `'svm_finalizado.sav'`: São os nomes dos arquivos onde os classificadores serão salvos.\n",
        "\n",
        "Após executar este código, os classificadores treinados estarão salvos em arquivos com extensão `.sav`, prontos para serem carregados e utilizados posteriormente em aplicações de classificação.\n",
        "\n",
        "é esse o arquivo que é enviado para o desenvolvedor para a criação da interfase gráfica, etc..\n"
      ],
      "metadata": {
        "id": "4HSh1UxEmdKR"
      }
    },
    {
      "cell_type": "markdown",
      "metadata": {
        "id": "IE2LDIuAdVf2"
      },
      "source": [
        "# Carregar um classificador já treinado"
      ]
    },
    {
      "cell_type": "code",
      "execution_count": 17,
      "metadata": {
        "id": "jFS52QjkkLEP"
      },
      "outputs": [],
      "source": [
        "# Carregar o classificador de rede neural\n",
        "rede_neural = pickle.load(open('/content/drive/MyDrive/ML e Data Sciece com python/dataset/credit_risc/Classificadores_finalizados/rede_neural_finalizado.sav', 'rb'))\n",
        "\n",
        "# Carregar o classificador de árvore de decisão\n",
        "arvore = pickle.load(open('/content/drive/MyDrive/ML e Data Sciece com python/dataset/credit_risc/Classificadores_finalizados/arvore_finalizado.sav', 'rb'))\n",
        "\n",
        "# Carregar o classificador SVM\n",
        "svm = pickle.load(open('/content/drive/MyDrive/ML e Data Sciece com python/dataset/credit_risc/Classificadores_finalizados/svm_finalizado.sav', 'rb'))\n"
      ]
    },
    {
      "cell_type": "markdown",
      "source": [
        "pickle.load(open(caminho_arquivo, 'rb')): Função do pickle que desserializa o objeto a partir do arquivo especificado (caminho_arquivo) em modo de leitura binária ('rb')."
      ],
      "metadata": {
        "id": "ul5b30agopMq"
      }
    },
    {
      "cell_type": "code",
      "execution_count": 19,
      "metadata": {
        "colab": {
          "base_uri": "https://localhost:8080/"
        },
        "id": "ZhRtIsh_kn4B",
        "outputId": "40b2ef93-99f3-4ea7-ee7d-35ebd28b2f70"
      },
      "outputs": [
        {
          "output_type": "execute_result",
          "data": {
            "text/plain": [
              "array([-1.03572293, -0.93978122,  0.04244312])"
            ]
          },
          "metadata": {},
          "execution_count": 19
        }
      ],
      "source": [
        "# SIMULAR SE UM NOVO CLIENTE FOI NO BANCO E VAMOS GERAR UMA PREVISÃO\n",
        "novo_registro = X_credit[1999]\n",
        "novo_registro"
      ]
    },
    {
      "cell_type": "markdown",
      "source": [
        "Isso selecionará o registro de índice 1999 da matriz X_credit e armazenará em novo_registro."
      ],
      "metadata": {
        "id": "WbK1-qBJo0Z3"
      }
    },
    {
      "cell_type": "code",
      "execution_count": 22,
      "metadata": {
        "colab": {
          "base_uri": "https://localhost:8080/"
        },
        "id": "y02JAV9WkyEx",
        "outputId": "13de92b1-83e5-4a78-f578-e2addf7f2770"
      },
      "outputs": [
        {
          "output_type": "execute_result",
          "data": {
            "text/plain": [
              "(3,)"
            ]
          },
          "metadata": {},
          "execution_count": 22
        }
      ],
      "source": [
        "#retornará a forma do novo registro, ou seja, o número de dimensões e o tamanho ao longo de cada dimensão.\n",
        "novo_registro.shape"
      ]
    },
    {
      "cell_type": "markdown",
      "source": [
        "Ao usar .reshape(1, -1) no array novo_registro, você está ajustando sua forma para que ele tenha uma linha e a mesma quantidade de colunas que tinha originalmente. Isso é útil quando você precisa passar um único exemplo de dado para modelos de aprendizado de máquina que esperam uma matriz bidimensional como entrada."
      ],
      "metadata": {
        "id": "gxFJyoS2pX5A"
      }
    },
    {
      "cell_type": "code",
      "execution_count": 23,
      "metadata": {
        "colab": {
          "base_uri": "https://localhost:8080/"
        },
        "id": "NdJ7vai0k-Nl",
        "outputId": "cef596b5-4d54-4ba4-c401-8ce274ee0c40"
      },
      "outputs": [
        {
          "output_type": "execute_result",
          "data": {
            "text/plain": [
              "(1, 3)"
            ]
          },
          "metadata": {},
          "execution_count": 23
        }
      ],
      "source": [
        "# Isso resultará na forma (1, n), onde n é o número total de elementos no registro original.\n",
        "novo_registro = novo_registro.reshape(1, -1)\n",
        "novo_registro.shape"
      ]
    },
    {
      "cell_type": "code",
      "execution_count": 24,
      "metadata": {
        "colab": {
          "base_uri": "https://localhost:8080/"
        },
        "id": "DUw8747mlG5L",
        "outputId": "000e4eaa-a25e-4ac1-8575-1bd43004487e"
      },
      "outputs": [
        {
          "output_type": "execute_result",
          "data": {
            "text/plain": [
              "array([[-1.03572293, -0.93978122,  0.04244312]])"
            ]
          },
          "metadata": {},
          "execution_count": 24
        }
      ],
      "source": [
        "novo_registro"
      ]
    },
    {
      "cell_type": "markdown",
      "source": [
        "### Previsão de teste com Rede Neural, Arvore de decisão e SVM\n"
      ],
      "metadata": {
        "id": "rFqyOo0-pp3P"
      }
    },
    {
      "cell_type": "markdown",
      "source": [
        "Para fazer uma previsão usando o classificador de rede neural carregado (rede_neural) no novo registro (novo_registro), você pode usar o método .predict() do modelo treinado:"
      ],
      "metadata": {
        "id": "n_s1aEQbplTP"
      }
    },
    {
      "cell_type": "code",
      "execution_count": 25,
      "metadata": {
        "colab": {
          "base_uri": "https://localhost:8080/"
        },
        "id": "VkIrzIRxk2GG",
        "outputId": "0e6fb203-7451-4c85-d727-d34fdeca9dac"
      },
      "outputs": [
        {
          "output_type": "execute_result",
          "data": {
            "text/plain": [
              "array([1])"
            ]
          },
          "metadata": {},
          "execution_count": 25
        }
      ],
      "source": [
        "rede_neural.predict(novo_registro)"
      ]
    },
    {
      "cell_type": "code",
      "execution_count": 26,
      "metadata": {
        "colab": {
          "base_uri": "https://localhost:8080/"
        },
        "id": "S-anyC6dlMWH",
        "outputId": "261f8f33-3415-4e60-bcc3-a41e09b5a666"
      },
      "outputs": [
        {
          "output_type": "execute_result",
          "data": {
            "text/plain": [
              "array([1])"
            ]
          },
          "metadata": {},
          "execution_count": 26
        }
      ],
      "source": [
        "arvore.predict(novo_registro)"
      ]
    },
    {
      "cell_type": "code",
      "execution_count": 27,
      "metadata": {
        "colab": {
          "base_uri": "https://localhost:8080/"
        },
        "id": "_h1sPgiIlQ5a",
        "outputId": "21aff56a-b2ea-4d03-9927-c8e5c3cb9851"
      },
      "outputs": [
        {
          "output_type": "execute_result",
          "data": {
            "text/plain": [
              "array([1])"
            ]
          },
          "metadata": {},
          "execution_count": 27
        }
      ],
      "source": [
        "svm.predict(novo_registro)"
      ]
    },
    {
      "cell_type": "markdown",
      "source": [
        "Em todos os casos é retornado a previsão feita pelo modelo de rede neural, arvore de decisão e SVM para o novo registro fornecido. No caso, está retornando 1 = MAU PAGADOR"
      ],
      "metadata": {
        "id": "-xsJIDASp-cd"
      }
    },
    {
      "cell_type": "markdown",
      "source": [
        "## Ordem correta para as etapas de avaliação de algoritmos\n",
        "\n",
        "1 - Base de treinamento\n",
        "2 - base de teste\n",
        "3 - algoritmo de aprendizagem de maquina\n",
        "4 - classificador\n",
        "\n",
        "* Underfitting ocorre quando o existe um problema e o algoritmo de Aprendizagem de maquina não consegue resolver, ou seja, de alguma forma o problema foi sub-estimado.\n",
        "* Overfitting ocorre quando o algoritmo se adapta muito à base de dados, tendo desempenho bom no treinamento e desempenho ruim no teste\n"
      ],
      "metadata": {
        "id": "JGsNTJwWqgfP"
      }
    }
  ]
}